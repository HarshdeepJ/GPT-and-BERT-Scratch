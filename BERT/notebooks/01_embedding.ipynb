{
 "cells": [
  {
   "cell_type": "code",
   "execution_count": 7,
   "metadata": {},
   "outputs": [],
   "source": [
    "import numpy as np\n",
    "import torch\n",
    "import torch.nn as nn\n",
    "import math"
   ]
  },
  {
   "cell_type": "code",
   "execution_count": 20,
   "metadata": {},
   "outputs": [],
   "source": [
    "class PositionalEncoding(nn.Module):\n",
    "    def __init__(self, max_len, d_model, dropout_prob: float = 0.1):\n",
    "        super().__init__()\n",
    "        self.dropout = nn.Dropout(p = dropout_prob)\n",
    "\n",
    "        position = torch.arange(max_len).unsqueeze(1)\n",
    "        div_term = torch.exp(torch.arange(0, d_model, 2) * (-math.log(10000.0)/d_model))\n",
    "        pe = torch.zeros(max_len, d_model)\n",
    "        pe[:, 0::2] = torch.sin(position * div_term)\n",
    "        pe[:, 1::2] = torch.cos(position * div_term)\n",
    "        pe = pe.unsqueeze(0)\n",
    "        self.register_buffer('pe', pe)\n",
    "    \n",
    "    def forward(self, x):\n",
    "        x = x + self.pe[:, :x.size(1)]\n",
    "        return self.dropout(x)"
   ]
  },
  {
   "cell_type": "code",
   "execution_count": 25,
   "metadata": {},
   "outputs": [],
   "source": [
    "class BERTEmbedding(nn.Module):\n",
    "    def __init__(self, vocab_size, embed_size, max_len, dropout_prob):\n",
    "        super().__init__()\n",
    "        self.token_embeddings = nn.Embedding(vocab_size, embed_size)\n",
    "        self.position_embeddings = PositionalEncoding(d_model= embed_size, max_len = max_len, dropout_prob = dropout_prob)\n",
    "        self.segment_embeddings = nn.Embedding(2, embed_size)\n",
    "        self.norm = nn.LayerNorm(embed_size)\n",
    "        self.dropout = nn.Dropout(dropout_prob)\n",
    "    \n",
    "    def forward(self, input_ids, segment_ids):\n",
    "        device = input_ids.device\n",
    "        if segment_ids is None:\n",
    "            segment_ids = torch.zeros_like(input_ids, device = device)\n",
    "\n",
    "        token_embs = self.token_embeddings(input_ids)\n",
    "        segment_embs = self.segment_embeddings(segment_ids)\n",
    "        base_embeddings = token_embs + segment_embs\n",
    "\n",
    "        final_embeddings = self.position_embeddings(base_embeddings)\n",
    "\n",
    "\n",
    "        normalized_embeddings = self.norm(final_embeddings)\n",
    "        final_output = self.dropout(normalized_embeddings)\n",
    "\n",
    "        return final_output\n"
   ]
  },
  {
   "cell_type": "code",
   "execution_count": 26,
   "metadata": {},
   "outputs": [
    {
     "name": "stdout",
     "output_type": "stream",
     "text": [
      "BERTEmbedding module initialized:\n",
      "BERTEmbedding(\n",
      "  (token_embeddings): Embedding(30000, 768)\n",
      "  (position_embeddings): PositionalEncoding(\n",
      "    (dropout): Dropout(p=0.1, inplace=False)\n",
      "  )\n",
      "  (segment_embeddings): Embedding(2, 768)\n",
      "  (norm): LayerNorm((768,), eps=1e-05, elementwise_affine=True)\n",
      "  (dropout): Dropout(p=0.1, inplace=False)\n",
      ")\n",
      "\n",
      "--- Running a forward pass ---\n",
      "Shape of input_ids: torch.Size([4, 128])\n",
      "Shape of segment_ids: torch.Size([4, 128])\n",
      "\n",
      "--- Verifying the output ---\n",
      "Shape of output embeddings: torch.Size([4, 128, 768])\n",
      "Expected output shape: (4, 128, 768)\n",
      "\n",
      "✅ Test passed! The output shape is correct.\n"
     ]
    }
   ],
   "source": [
    "if __name__ == '__main__':\n",
    "    # --- Configuration for the test ---\n",
    "    VOCAB_SIZE = 30000  # Size of a typical vocabulary\n",
    "    EMBED_SIZE = 768    # Dimension for BERT-base\n",
    "    MAX_LEN = 512       # Max sequence length for BERT\n",
    "    BATCH_SIZE = 4      # Number of sequences in a batch\n",
    "    SEQ_LENGTH = 128    # Length of the example sequences\n",
    "\n",
    "    # --- Instantiate the model ---\n",
    "    embedding_layer = BERTEmbedding(\n",
    "        vocab_size=VOCAB_SIZE,\n",
    "        embed_size=EMBED_SIZE,\n",
    "        max_len=MAX_LEN,\n",
    "        dropout_prob=0.1\n",
    "    )\n",
    "    \n",
    "    print(\"BERTEmbedding module initialized:\")\n",
    "    print(embedding_layer)\n",
    "\n",
    "    # --- Create dummy input data ---\n",
    "    # `input_ids` are random integers from 0 to VOCAB_SIZE-1\n",
    "    # Shape: (BATCH_SIZE, SEQ_LENGTH)\n",
    "    dummy_input_ids = torch.randint(0, VOCAB_SIZE, (BATCH_SIZE, SEQ_LENGTH))\n",
    "\n",
    "    # `segment_ids` are 0s and 1s\n",
    "    # Shape: (BATCH_SIZE, SEQ_LENGTH)\n",
    "    dummy_segment_ids = torch.zeros(BATCH_SIZE, SEQ_LENGTH, dtype=torch.long)\n",
    "    # Let's make the second half of each sequence belong to segment 1\n",
    "    dummy_segment_ids[:, SEQ_LENGTH // 2:] = 1\n",
    "\n",
    "    print(\"\\n--- Running a forward pass ---\")\n",
    "    print(f\"Shape of input_ids: {dummy_input_ids.shape}\")\n",
    "    print(f\"Shape of segment_ids: {dummy_segment_ids.shape}\")\n",
    "\n",
    "    # --- Get the output ---\n",
    "    output_embeddings = embedding_layer(dummy_input_ids, dummy_segment_ids)\n",
    "    \n",
    "    # --- Verify the output ---\n",
    "    print(\"\\n--- Verifying the output ---\")\n",
    "    print(f\"Shape of output embeddings: {output_embeddings.shape}\")\n",
    "    print(f\"Expected output shape: {(BATCH_SIZE, SEQ_LENGTH, EMBED_SIZE)}\")\n",
    "    \n",
    "    # Check if the shape is correct\n",
    "    assert output_embeddings.shape == (BATCH_SIZE, SEQ_LENGTH, EMBED_SIZE)\n",
    "    \n",
    "    print(\"\\n✅ Test passed! The output shape is correct.\")"
   ]
  },
  {
   "cell_type": "code",
   "execution_count": null,
   "metadata": {},
   "outputs": [],
   "source": []
  }
 ],
 "metadata": {
  "kernelspec": {
   "display_name": "Python 3",
   "language": "python",
   "name": "python3"
  },
  "language_info": {
   "codemirror_mode": {
    "name": "ipython",
    "version": 3
   },
   "file_extension": ".py",
   "mimetype": "text/x-python",
   "name": "python",
   "nbconvert_exporter": "python",
   "pygments_lexer": "ipython3",
   "version": "3.10.18"
  }
 },
 "nbformat": 4,
 "nbformat_minor": 2
}
