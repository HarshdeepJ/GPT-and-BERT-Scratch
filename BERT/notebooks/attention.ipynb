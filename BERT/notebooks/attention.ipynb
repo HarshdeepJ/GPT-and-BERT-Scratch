{
 "cells": [
  {
   "cell_type": "code",
   "execution_count": 2,
   "metadata": {},
   "outputs": [],
   "source": [
    "import torch\n",
    "import torch.nn as nn\n",
    "import math"
   ]
  },
  {
   "cell_type": "code",
   "execution_count": 3,
   "metadata": {},
   "outputs": [],
   "source": [
    "def scaled_dot_product_attention(q: torch.Tensor, k:torch.Tensor, v: torch.Tensor, mask: torch.Tensor = None) -> torch.Tensor:\n",
    "    d_k = k.size(-1)\n",
    "    attention_score = torch.matmul(q, k.transpose(-2, -1))\n",
    "    scaled_attention_scores = attention_score / math.sqrt(d_k)\n",
    "    if mask is not None:\n",
    "        scaled_attention_scores = scaled_attention_scores.masked_fill(mask == 0, -1e9)\n",
    "    attention_weights = torch.softmax(scaled_attention_scores, dim=-1)\n",
    "    output = torch.matmul(attention_weights, v)\n",
    "    return output, attention_weights"
   ]
  },
  {
   "cell_type": "code",
   "execution_count": 4,
   "metadata": {},
   "outputs": [],
   "source": [
    "class MultiHeadAttention(nn.Module):\n",
    "    def __init__(self, d_model: int, num_heads: int):\n",
    "        super().__init__()\n",
    "        assert d_model % num_heads == 0, 'd_model must be divisible by num_heads'\n",
    "\n",
    "        self.d_model = d_model\n",
    "        self.num_heads = num_heads\n",
    "        self.head_dim = d_model // num_heads\n",
    "\n",
    "        self.w_q = nn.Linear(d_model, d_model)\n",
    "        self.w_k = nn.Linear(d_model, d_model)\n",
    "        self.w_v = nn.Linear(d_model, d_model)\n",
    "        self.w_o = nn.Linear(d_model, d_model)\n",
    "\n",
    "    def forward(self, q: torch.Tensor, k:torch.Tensor, v: torch.Tensor, mask: torch.Tensor = None) -> torch.Tensor:\n",
    "        batch_size = q.size(0)\n",
    "        q, k, v = self.w_q(q), self.w_k(k), self.w_v(v)\n",
    "        q = q.view(batch_size, -1, self.num_heads, self.head_dim).transpose(1, 2)\n",
    "        k = k.view(batch_size, -1, self.num_heads, self.head_dim).transpose(1, 2)\n",
    "        v = v.view(batch_size, -1, self.num_heads, self.head_dim).transpose(1, 2)\n",
    "\n",
    "        attention_output, _ = scaled_dot_product_attention(q, k, v, mask)\n",
    "        attention_output = attention_output.transpose(1, 2).contiguous().view(batch_size, -1, self.d_model)\n",
    "        output = self.w_o(attention_output)\n",
    "        return output"
   ]
  }
 ],
 "metadata": {
  "kernelspec": {
   "display_name": "Python 3",
   "language": "python",
   "name": "python3"
  },
  "language_info": {
   "codemirror_mode": {
    "name": "ipython",
    "version": 3
   },
   "file_extension": ".py",
   "mimetype": "text/x-python",
   "name": "python",
   "nbconvert_exporter": "python",
   "pygments_lexer": "ipython3",
   "version": "3.10.18"
  }
 },
 "nbformat": 4,
 "nbformat_minor": 2
}
