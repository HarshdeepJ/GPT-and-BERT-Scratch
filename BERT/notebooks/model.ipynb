{
 "cells": [
  {
   "cell_type": "code",
   "execution_count": 2,
   "metadata": {},
   "outputs": [
    {
     "name": "stdout",
     "output_type": "stream",
     "text": [
      "BERTEmbedding module initialized:\n",
      "BERTEmbedding(\n",
      "  (token_embeddings): Embedding(30000, 768)\n",
      "  (position_embeddings): PositionalEncoding(\n",
      "    (dropout): Dropout(p=0.1, inplace=False)\n",
      "  )\n",
      "  (segment_embeddings): Embedding(2, 768)\n",
      "  (norm): LayerNorm((768,), eps=1e-05, elementwise_affine=True)\n",
      "  (dropout): Dropout(p=0.1, inplace=False)\n",
      ")\n",
      "\n",
      "--- Running a forward pass ---\n",
      "Shape of input_ids: torch.Size([4, 128])\n",
      "Shape of segment_ids: torch.Size([4, 128])\n",
      "\n",
      "--- Verifying the output ---\n",
      "Shape of output embeddings: torch.Size([4, 128, 768])\n",
      "Expected output shape: (4, 128, 768)\n",
      "\n",
      "✅ Test passed! The output shape is correct.\n"
     ]
    }
   ],
   "source": [
    "import torch.nn as nn\n",
    "%run 01_embedding.ipynb\n",
    "%run encoder.ipynb"
   ]
  },
  {
   "cell_type": "code",
   "execution_count": 3,
   "metadata": {},
   "outputs": [],
   "source": [
    "class BertModel(nn.Module):\n",
    "    def __init__(self, vocab_size, d_model, num_heads, d_ff, max_len, dropout_prob: float = 0.01, num_layers: int = 12):\n",
    "        super().__init__()\n",
    "        self.embedding = BERTEmbedding(vocab_size = vocab_size, embed_size = d_model, max_len = max_len, dropout_prob = dropout_prob)\n",
    "        self.encoder_layers = nn.ModuleList(\n",
    "            [TransformerEncoderBlock(\n",
    "                d_model = d_model,\n",
    "                num_heads = num_heads,\n",
    "                d_ff = d_ff,\n",
    "                dropout_prob = dropout_prob,\n",
    "            ) for _ in range(num_layers)\n",
    "            ]\n",
    "        )\n",
    "    \n",
    "    def forward(self, input_ids, segment_ids, attention_mask =  None):\n",
    "        if attention_mask is not None:\n",
    "            attention_mask = attention_mask.unsqueeze(1).unsqueeze(2)\n",
    "        \n",
    "        x = self.embedding(input_ids = input_ids, segment_ids = segment_ids)\n",
    "\n",
    "        for layer in self.encoder_layers:\n",
    "            x = layer(x, mask = attention_mask)\n",
    "        \n",
    "        return x"
   ]
  },
  {
   "cell_type": "code",
   "execution_count": null,
   "metadata": {},
   "outputs": [],
   "source": [
    "class BertForPreTraining(nn.Module):\n",
    "    def __init__(self, vocab_size, d_model, num_layers, num_heads, d_ff, max_len, dropout_prob):\n",
    "        super().__init__()\n",
    "        self.bert = BertModel(\n",
    "            vocab_size = vocab_size,\n",
    "            d_model = d_model,\n",
    "            num_layers = num_layers,\n",
    "            num_heads = num_heads,\n",
    "            d_ff = d_ff,\n",
    "            max_len = max_len,\n",
    "            dropout_prob = dropout_prob,\n",
    "        )\n",
    "\n",
    "        self.nsp_head = nn.Sequential(\n",
    "            nn.Linear(d_model, d_model),\n",
    "            nn.Tanh(),\n",
    "            nn.Linear(d_model, 2),\n",
    "        )\n",
    "\n",
    "        self.mlm_head = nn.Linear(d_model, vocab_size)\n",
    "    \n",
    "    def forward(self, input_ids, segment_ids, attention_mask = None):\n",
    "        sequence_output = self.bert(input_ids, segment_ids, attention_mask)\n",
    "        cls_token_output = sequence_output[:, 0]\n",
    "        nsp_logits = self.nsp_head(cls_token_output)\n",
    "        mlm_logits = self.mlm_head(sequence_output)\n",
    "        return mlm_logits, nsp_logits"
   ]
  }
 ],
 "metadata": {
  "kernelspec": {
   "display_name": "Python 3",
   "language": "python",
   "name": "python3"
  },
  "language_info": {
   "codemirror_mode": {
    "name": "ipython",
    "version": 3
   },
   "file_extension": ".py",
   "mimetype": "text/x-python",
   "name": "python",
   "nbconvert_exporter": "python",
   "pygments_lexer": "ipython3",
   "version": "3.10.18"
  }
 },
 "nbformat": 4,
 "nbformat_minor": 2
}
