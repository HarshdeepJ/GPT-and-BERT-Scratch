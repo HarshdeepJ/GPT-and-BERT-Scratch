{
 "cells": [
  {
   "cell_type": "code",
   "execution_count": 5,
   "metadata": {},
   "outputs": [],
   "source": [
    "import torch\n",
    "import torch.nn as nn\n",
    "import pickle\n",
    "from torch.utils.data import DataLoader, Dataset\n",
    "from torch.optim import AdamW\n",
    "import pickle\n",
    "import tqdm\n",
    "from pathlib import Path\n",
    "import sys"
   ]
  },
  {
   "cell_type": "code",
   "execution_count": null,
   "metadata": {},
   "outputs": [],
   "source": [
    "sys.path.append(str(Path(__file__).resolve().parent.parent))"
   ]
  },
  {
   "cell_type": "code",
   "execution_count": 2,
   "metadata": {},
   "outputs": [
    {
     "name": "stdout",
     "output_type": "stream",
     "text": [
      "BERTEmbedding module initialized:\n",
      "BERTEmbedding(\n",
      "  (token_embeddings): Embedding(30000, 768)\n",
      "  (position_embeddings): PositionalEncoding(\n",
      "    (dropout): Dropout(p=0.1, inplace=False)\n",
      "  )\n",
      "  (segment_embeddings): Embedding(2, 768)\n",
      "  (norm): LayerNorm((768,), eps=1e-05, elementwise_affine=True)\n",
      "  (dropout): Dropout(p=0.1, inplace=False)\n",
      ")\n",
      "\n",
      "--- Running a forward pass ---\n",
      "Shape of input_ids: torch.Size([4, 128])\n",
      "Shape of segment_ids: torch.Size([4, 128])\n",
      "\n",
      "--- Verifying the output ---\n",
      "Shape of output embeddings: torch.Size([4, 128, 768])\n",
      "Expected output shape: (4, 128, 768)\n",
      "\n",
      "✅ Test passed! The output shape is correct.\n"
     ]
    }
   ],
   "source": [
    "%run model.ipynb"
   ]
  },
  {
   "cell_type": "code",
   "execution_count": 3,
   "metadata": {},
   "outputs": [],
   "source": [
    "class BERTDataset(Dataset):\n",
    "    def __init__(self, data_path):\n",
    "        super().__init__()\n",
    "        with open(data_path, 'rb') as file:\n",
    "            self.examples = pickle.load(file)\n",
    "    \n",
    "    def __len__(self):\n",
    "        return len(self.examples)\n",
    "    \n",
    "    def __getitem__(self, index):\n",
    "        return self.examples[index]"
   ]
  },
  {
   "cell_type": "code",
   "execution_count": null,
   "metadata": {},
   "outputs": [],
   "source": [
    "VOCAB_SIZE = 10000\n",
    "MAX_SEQ_LEN = 128\n",
    "\n",
    "D_MODEL = 256\n",
    "NUM_LAYERS = 4\n",
    "NUM_HEADS = 8\n",
    "D_FF = D_MODEL * 4\n",
    "DROPOUT_PROB = 0.1\n",
    "\n",
    "BATCH_SIZE = 64\n",
    "LEARNING_RATE = 1e-4\n",
    "NUM_EPOCHS = 10\n",
    "SAVE_EVERY_N_EPOCHS = 2"
   ]
  },
  {
   "cell_type": "code",
   "execution_count": 7,
   "metadata": {},
   "outputs": [],
   "source": [
    "def main():\n",
    "    device = torch.device('cuda' if torch.cuda.is_available() else 'cpu')\n",
    "    project_root = Path(__file__).parent.parent\n",
    "    processed_data_path = project_root / 'data' / 'processed' / 'bert_data.pkl'\n",
    "    model_save_dir = project_root / 'models'\n",
    "    model_save_dir.mkdir(parents=True, exist_ok=True)\n",
    "\n",
    "    print('Loading pre-processed data: ')\n",
    "    dataset = BERTDataset(processed_data_path)\n",
    "    train_loader = DataLoader(dataset, batch_size = BATCH_SIZE, shuffle = True)\n",
    "    print(f'    ...found {len(dataset)} training examples.')\n",
    "\n",
    "    print('Initializing BERT model: ')\n",
    "    model = BertForPreTraining(\n",
    "        vocab_size = VOCAB_SIZE,\n",
    "        d_model = D_MODEL,\n",
    "        num_layers = NUM_LAYERS,\n",
    "        d_ff = D_FF,\n",
    "        max_len = MAX_SEQ_LEN,\n",
    "        dropout_prob = DROPOUT_PROB,\n",
    "    ).to(device)\n",
    "\n",
    "    criterion = nn.CrossEntropyLoss(ignore_index = -100)\n",
    "    optimizer = torch.optim.AdamW(model.parameters(), lr = LEARNING_RATE)\n",
    "\n",
    "    print('Starting training: ')\n",
    "    for epoch in range(NUM_EPOCHS):\n",
    "        model.train()\n",
    "        total_loss = 0\n",
    "        progress_bar = tqdm(train_loader, desc = f'Epoch {epoch + 1}/{NUM_EPOCHS}')\n",
    "\n",
    "        for batch in progress_bar:\n",
    "            input_ids = batch['input_ids'].to(device)\n",
    "            segment_ids = batch['segment_ids'].to(device)\n",
    "            attention_mask = batch['attention_mask'].to(device)\n",
    "            mlm_labels = batch['mlm_labels'].to(device)\n",
    "            nsp_label = batch['nsp_label'].to(device)\n",
    "\n",
    "            mlm_logits, nsp_logits = model(input_ids, segment_ids, attention_mask)\n",
    "\n",
    "            mlm_loss = criterion(mlm_logits.view(-1, VOCAB_SIZE), mlm_labels.view(-1))\n",
    "            \n",
    "            nsp_loss = criterion(nsp_logits, nsp_label)\n",
    "\n",
    "            loss = mlm_loss + nsp_loss\n",
    "\n",
    "            optimizer.zero_grad()\n",
    "            loss.backward()\n",
    "            optimizer.step()\n",
    "\n",
    "            total_loss += loss.item()\n",
    "            progress_bar.set_postfix(loss = loss.item())\n",
    "        \n",
    "        avg_loss = total_loss / len(train_loader)\n",
    "        print(f'Epoch {epoch + 1}/{NUM_EPOCHS} | Average Loss: {avg_loss:.4f}')\n",
    "\n",
    "        if (epoch + 1) % SAVE_EVERY_N_EPOCHS == 0:\n",
    "            checkpoint_path = model_save_dir / f'bert_pretrained_epoch_{epoch + 1}.pth'\n",
    "            print(f'Saving model checkpoint to {checkpoint_path}...')\n",
    "            torch.save(model.state_dict(), checkpoint_path)\n",
    "\n",
    "    print('\\nTraining complete')\n",
    "    final_model_path = model_save_dir / 'bert_pretrained_final.pth'\n",
    "    print(f'Saving final model to {final_model_path}')\n",
    "    torch.save(model.state_dict(), final_model_path)\n"
   ]
  },
  {
   "cell_type": "code",
   "execution_count": null,
   "metadata": {},
   "outputs": [],
   "source": [
    "if __name__ == '__main__':\n",
    "    main()"
   ]
  }
 ],
 "metadata": {
  "kernelspec": {
   "display_name": "Python 3",
   "language": "python",
   "name": "python3"
  },
  "language_info": {
   "codemirror_mode": {
    "name": "ipython",
    "version": 3
   },
   "file_extension": ".py",
   "mimetype": "text/x-python",
   "name": "python",
   "nbconvert_exporter": "python",
   "pygments_lexer": "ipython3",
   "version": "3.10.18"
  }
 },
 "nbformat": 4,
 "nbformat_minor": 2
}
