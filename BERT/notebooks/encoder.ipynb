{
 "cells": [
  {
   "cell_type": "code",
   "execution_count": 4,
   "metadata": {},
   "outputs": [],
   "source": [
    "%run attention.ipynb\n",
    "%run feed_forward.ipynb\n",
    "import torch.nn as nn"
   ]
  },
  {
   "cell_type": "code",
   "execution_count": 5,
   "metadata": {},
   "outputs": [],
   "source": [
    "class TransformerEncoderBlock(nn.Module):\n",
    "    def __init__(self, d_model, num_heads, d_ff, dropout_prob):\n",
    "        self.attention = MultiHeadAttention(d_model = d_model, num_heads = num_heads)\n",
    "        self.ffn = PositionwiseFeedForward(d_model = d_model, d_ff = d_ff, dropout_prob = dropout_prob)\n",
    "        self.norm1 = nn.LayerNorm(d_model)\n",
    "        self.norm2 = nn.LayerNorm(d_model)\n",
    "        self.dropout1 = nn.Dropout(dropout_prob)\n",
    "        self.dropout2 = nn.Dropout(dropout_prob)\n",
    "    \n",
    "    def forward(self, x, mask = None):\n",
    "        residual = x\n",
    "        x = self.norm1(x)\n",
    "        attention_output = self.attention(q = x, k = x, v = x, mask = mask)\n",
    "        x = self.dropout1(attention_output)\n",
    "        x = x + residual\n",
    "\n",
    "        residual = x\n",
    "        x = self.norm2(x)\n",
    "        ffn_output = self.ffn(x)\n",
    "        x = self.dropout2(ffn_output)\n",
    "        x = x + residual\n",
    "\n",
    "        return x"
   ]
  }
 ],
 "metadata": {
  "kernelspec": {
   "display_name": "Python 3",
   "language": "python",
   "name": "python3"
  },
  "language_info": {
   "codemirror_mode": {
    "name": "ipython",
    "version": 3
   },
   "file_extension": ".py",
   "mimetype": "text/x-python",
   "name": "python",
   "nbconvert_exporter": "python",
   "pygments_lexer": "ipython3",
   "version": "3.10.18"
  }
 },
 "nbformat": 4,
 "nbformat_minor": 2
}
