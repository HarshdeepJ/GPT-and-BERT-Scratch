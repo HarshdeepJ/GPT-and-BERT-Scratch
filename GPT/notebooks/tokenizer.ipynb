{
 "cells": [
  {
   "cell_type": "code",
   "execution_count": 1,
   "metadata": {},
   "outputs": [],
   "source": [
    "import os\n",
    "import json"
   ]
  },
  {
   "cell_type": "code",
   "execution_count": null,
   "metadata": {},
   "outputs": [],
   "source": [
    "class CharacterTokenizer:\n",
    "    def __init__(self):\n",
    "        self.stoi = {}\n",
    "        self.itos = {}\n",
    "        self.vocab_size = 0\n",
    "    \n",
    "    def build_vocab(self, text: str):\n",
    "        chars = sorted(list(set(text)))\n",
    "        self.stoi = {ch: i for i, ch in enumerate(chars)}\n",
    "        self.itos = {i: ch for i, ch in enumerate(chars)}\n",
    "        self.vocab_size = len(chars)\n",
    "        print(f'Vocabulary built. Found {self.vocab_size} unique characters.')\n",
    "    \n",
    "    def encode(self, s: str) -> list[int]:\n",
    "        if not self.stoi:\n",
    "            raise RuntimeError('Vocabulary not built. Call build_vocab() first.')\n",
    "        return [self.stoi[c] for c in s]\n",
    "    \n",
    "    def decode(self, l: list[int]) -> str:\n",
    "        if not self.itos:\n",
    "            raise RuntimeError('Vocabulary not built. Call build_vocab() first.')\n",
    "        s = ''\n",
    "        for i in l:\n",
    "            s+=self.itos[l]\n",
    "        return s\n",
    "\n",
    "    def save_vocab(self, path: str):\n",
    "        vocab_data = {\n",
    "            'stoi': self.stoi,\n",
    "            'itos': self.itos,\n",
    "            'vocab_size': self.vocab_size,\n",
    "        }\n",
    "\n",
    "        with open(path, 'w', encoding = 'utf-8') as f:\n",
    "            json.dump(vocab_data, f, ensure_ascii=False, indent=4)\n",
    "        print(f'Vocabulary saved to {path}')\n",
    "    \n",
    "    def load_vocab(self, path: str):\n",
    "        if not os.path.exists(path):\n",
    "            raise FileNotFoundError(f'Vocabulary file not found at {path}')\n",
    "        \n",
    "        with open(path, 'r', encoding = 'utf-8') as f:\n",
    "            vocab_data = json.load(f)\n",
    "        \n",
    "        self.stoi = vocab_data['stoi']\n",
    "        self.itos = {int(k): v for k, v in vocab_data['itos'].items()}\n",
    "\n",
    "        print(f'Vocabulary loaded from {path}. Vocab size: {self.vocab_size}')"
   ]
  }
 ],
 "metadata": {
  "kernelspec": {
   "display_name": "Python 3",
   "language": "python",
   "name": "python3"
  },
  "language_info": {
   "codemirror_mode": {
    "name": "ipython",
    "version": 3
   },
   "file_extension": ".py",
   "mimetype": "text/x-python",
   "name": "python",
   "nbconvert_exporter": "python",
   "pygments_lexer": "ipython3",
   "version": "3.10.18"
  }
 },
 "nbformat": 4,
 "nbformat_minor": 2
}
