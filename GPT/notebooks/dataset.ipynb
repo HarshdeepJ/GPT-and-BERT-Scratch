{
 "cells": [
  {
   "cell_type": "code",
   "execution_count": 1,
   "metadata": {},
   "outputs": [],
   "source": [
    "import torch\n",
    "import torch.nn as nn\n",
    "from torch.utils.data import DataLoader\n",
    "from torch.utils.data import Dataset\n",
    "import os"
   ]
  },
  {
   "cell_type": "code",
   "execution_count": 2,
   "metadata": {},
   "outputs": [],
   "source": [
    "%run tokenizer.ipynb"
   ]
  },
  {
   "cell_type": "code",
   "execution_count": null,
   "metadata": {},
   "outputs": [],
   "source": [
    "class TextDataset(Dataset):\n",
    "    def __init__(self, text_data: str, tokenizer: CharacterTokenizer, block_size: int):\n",
    "        super().__init__()\n",
    "        self.tokenizer = tokenizer\n",
    "        self.block_size = block_size\n",
    "        print('Encoding text data...')\n",
    "        self.data = torch.tensor(tokenizer.encode(text_data), dtype = torch.long)\n",
    "        print(f'Text data encoded. Total tokens: {len(self.data)}')\n",
    "        if len(self.data) < self.block_size + 1:\n",
    "            raise ValueError(\n",
    "                f'Dataset too small for given block_size.'\n",
    "                f'Total tokens: {len(self.data)}, required: {self.block_size + 1}'\n",
    "            )\n",
    "    \n",
    "    def __len__(self) -> int:\n",
    "        return len(self.data) - self.block_size\n",
    "    \n",
    "    def __getitem__(self, idx: int) -> tuple[torch.Tensor, torch.Tensor]:\n",
    "        x = self.data[idx: idx + self.block_size]\n",
    "        y = self.data[idx + 1: idx + self.block_size + 1]\n",
    "        return x, y"
   ]
  }
 ],
 "metadata": {
  "kernelspec": {
   "display_name": "Python 3",
   "language": "python",
   "name": "python3"
  },
  "language_info": {
   "codemirror_mode": {
    "name": "ipython",
    "version": 3
   },
   "file_extension": ".py",
   "mimetype": "text/x-python",
   "name": "python",
   "nbconvert_exporter": "python",
   "pygments_lexer": "ipython3",
   "version": "3.10.18"
  }
 },
 "nbformat": 4,
 "nbformat_minor": 2
}
