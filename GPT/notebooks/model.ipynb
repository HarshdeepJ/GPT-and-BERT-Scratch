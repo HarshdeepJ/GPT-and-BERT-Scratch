{
 "cells": [
  {
   "cell_type": "code",
   "execution_count": 1,
   "metadata": {},
   "outputs": [],
   "source": [
    "import torch\n",
    "import torch.nn as nn\n",
    "import torch.nn.functional as F"
   ]
  },
  {
   "cell_type": "code",
   "execution_count": 2,
   "metadata": {},
   "outputs": [],
   "source": [
    "class LayerNorm(nn.Module):\n",
    "    def __init__(self, ndim, bias, eps = 1e-5):\n",
    "        super().__init__()\n",
    "        self.weight = nn.Parameter(torch.ones(ndim))\n",
    "        self.bias = nn.Parameter(torch.zeros(ndim)) if bias else None\n",
    "        self.eps = eps\n",
    "    \n",
    "    def forward(self, x):   \n",
    "        return F.layer_norm(x, self.weight.shape, self.weight, self.bias, self.eps)"
   ]
  },
  {
   "cell_type": "code",
   "execution_count": 4,
   "metadata": {},
   "outputs": [],
   "source": [
    "class CausalSelfAttention(nn.Module):\n",
    "    def __init__(self, n_embd, n_head, block_size, dropout, bias):\n",
    "        super().__init__()\n",
    "        self.n_embd = n_embd\n",
    "        self.n_head = n_head\n",
    "        self.head_size = n_embd // n_head\n",
    "\n",
    "        self.c_attn = nn.Linear(n_embd, 3 * n_embd, bias = bias)\n",
    "        \n",
    "        self.c_proj = nn.Linear(n_embd, n_embd, bias = bias)\n",
    "\n",
    "        self.attn_dropout = nn.Dropout(dropout)\n",
    "        self.resid_dropout = nn.Dropout(dropout)\n",
    "        \n",
    "        self.register_buffer('bias_mask', torch.tril(torch.ones(block_size, block_size)).view(1, 1, block_size, block_size))\n",
    "    \n",
    "    def forward(self, x):\n",
    "        B, T, C = x.size()\n",
    "\n",
    "        q, k, v = self.c_attn(x).split(self.n_embd, dim = 2)\n",
    "        \n",
    "        k = k.view(B, T, self.n_head, self.head_size).transpose(1, 2)\n",
    "        q = q.view(B, T, self.n_head, self.head_size).transpose(1, 2)\n",
    "        v = v.view(B, T, self.n_head, self.head_size).transpose(1, 2)\n",
    "\n",
    "        att = (q @ k.transpose(-2, -1)) * (1.0 / (self.head_size ** 0.5))\n",
    "        att = att.masked_fill(self.bias_mask[:, :, :T, :T] == 0, float('-inf'))\n",
    "        att = F.softmax(att, dim = -1)\n",
    "        att = self.attn_dropout(att)\n",
    "\n",
    "        y = att @ v\n",
    "        y = y.transpose(1, 2).contiguous().view(B, T, C)\n",
    "        y = self.resid_dropout(self.c_proj(y))\n",
    "\n",
    "        return y"
   ]
  },
  {
   "cell_type": "code",
   "execution_count": null,
   "metadata": {},
   "outputs": [],
   "source": []
  }
 ],
 "metadata": {
  "kernelspec": {
   "display_name": "Python 3",
   "language": "python",
   "name": "python3"
  },
  "language_info": {
   "codemirror_mode": {
    "name": "ipython",
    "version": 3
   },
   "file_extension": ".py",
   "mimetype": "text/x-python",
   "name": "python",
   "nbconvert_exporter": "python",
   "pygments_lexer": "ipython3",
   "version": "3.10.18"
  }
 },
 "nbformat": 4,
 "nbformat_minor": 2
}
