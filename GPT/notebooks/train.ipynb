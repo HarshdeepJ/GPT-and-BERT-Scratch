{
 "cells": [
  {
   "cell_type": "code",
   "execution_count": 13,
   "metadata": {},
   "outputs": [],
   "source": [
    "import torch\n",
    "import torch.nn as nn\n",
    "import torch.optim as optim\n",
    "from torch.utils.data import DataLoader\n",
    "import tqdm\n",
    "import os\n",
    "import time\n",
    "from torch.utils.tensorboard import SummaryWriter"
   ]
  },
  {
   "cell_type": "code",
   "execution_count": 10,
   "metadata": {},
   "outputs": [],
   "source": [
    "#%run config.ipynb"
   ]
  },
  {
   "cell_type": "code",
   "execution_count": 11,
   "metadata": {},
   "outputs": [],
   "source": [
    "%run model.ipynb\n",
    "%run dataset.ipynb\n",
    "%run tokenizer.ipynb"
   ]
  },
  {
   "cell_type": "code",
   "execution_count": null,
   "metadata": {},
   "outputs": [],
   "source": [
    "os.makedirs(out_dir, exist_ok=True)\n",
    "logs_dir = os.path.join('logs', time.strftime(\"%Y%m%d-%H%M%S\"))\n",
    "os.makedirs(logs_dir, exist_ok=True)"
   ]
  },
  {
   "cell_type": "code",
   "execution_count": null,
   "metadata": {},
   "outputs": [],
   "source": [
    "writer = SummaryWriter(log_dir=logs_dir)\n",
    "print(f'Logging to TensorBoard directory: {logs_dir}')\n",
    "print(f'Checkpoints will be saved to: {out_dir}')"
   ]
  },
  {
   "cell_type": "code",
   "execution_count": null,
   "metadata": {},
   "outputs": [],
   "source": [
    "with open(dataset_path, 'r', encoding='utf-8') as f:\n",
    "    text = f.read()"
   ]
  },
  {
   "cell_type": "code",
   "execution_count": null,
   "metadata": {},
   "outputs": [],
   "source": [
    "tokenizer = CharacterTokenizer()\n",
    "tokenizer.build_vocab(text)"
   ]
  },
  {
   "cell_type": "code",
   "execution_count": null,
   "metadata": {},
   "outputs": [],
   "source": [
    "tokenizer_vocab_path = os.path.join(out_dir, 'tokenizer_vocab.json')\n",
    "tokenizer.save_vocab(tokenizer_vocab_path)\n",
    "vocab_size = tokenizer.vocab_size"
   ]
  },
  {
   "cell_type": "code",
   "execution_count": null,
   "metadata": {},
   "outputs": [],
   "source": [
    "n = int(0.9 * len(text))\n",
    "train_data = text[:n]\n",
    "val_data = text[:n]"
   ]
  },
  {
   "cell_type": "code",
   "execution_count": null,
   "metadata": {},
   "outputs": [],
   "source": [
    "train_dataset = TextDataset(train_data, tokenizer, block_size)\n",
    "val_dataset = TextDataset(val_data, tokenizer, block_size)"
   ]
  },
  {
   "cell_type": "code",
   "execution_count": null,
   "metadata": {},
   "outputs": [],
   "source": [
    "train_loader = DataLoader(train_dataset, batch_size = batch_size, shuffle = True, num_workers=0, pin_memory=True)\n",
    "val_loader = DataLoader(val_dataset, batch_size=batch_size, shuffle = False, num_workers=0, pin_memory=True)"
   ]
  },
  {
   "cell_type": "code",
   "execution_count": null,
   "metadata": {},
   "outputs": [],
   "source": [
    "train_iter = iter(train_loader)\n",
    "val_iter = iter(val_loader)"
   ]
  },
  {
   "cell_type": "code",
   "execution_count": 14,
   "metadata": {},
   "outputs": [],
   "source": [
    "device = torch.device('cuda' if torch.cuda.is_available() else 'cpu')"
   ]
  },
  {
   "cell_type": "code",
   "execution_count": null,
   "metadata": {},
   "outputs": [],
   "source": [
    "model = GPT(vocab_size, block_size, n_layer, n_head, n_embd, dropout, bias).to(device)\n",
    "optimizer = optim.AdamW(model.parameters(), lr = learning_rate, weight_decay=weight_decay, betas = (beta1, beta2))"
   ]
  },
  {
   "cell_type": "code",
   "execution_count": 15,
   "metadata": {},
   "outputs": [],
   "source": [
    "@torch.no_grad()\n",
    "def estimate_loss(model, data_loader, eval_iters, current_iter, writer):\n",
    "    out = {}\n",
    "    model.eval()\n",
    "    losses = []\n",
    "\n",
    "    eval_loader_iter = iter(data_loader)\n",
    "\n",
    "    for k in range(eval_iters):\n",
    "        try:\n",
    "            xb, yb = next(eval_loader_iter)\n",
    "        except StopIteration:\n",
    "            eval_loader_iter = iter(data_loader)\n",
    "            xb, yb = next(eval_loader_iter)\n",
    "        \n",
    "        xb, yb = xb.to(device), yb.to(device)\n",
    "        logits, loss = model(xb, yb)\n",
    "        losses.append(loss.item())\n",
    "\n",
    "    mean_loss = torch.tensor(losses).mean().item()\n",
    "    model.train()\n",
    "    return mean_loss"
   ]
  },
  {
   "cell_type": "code",
   "execution_count": null,
   "metadata": {},
   "outputs": [],
   "source": [
    "global_step = 0\n",
    "for iter_num in tqdm(range(max_iters), desc = 'Training'):\n",
    "    try:\n",
    "        xb, yb = next(train_iter)\n",
    "    except StopIteration:\n",
    "        train_iter = iter(train_loader)\n",
    "        xb, yb = next(train_iter)\n",
    "    \n",
    "    xb, yb = xb.to(device), yb.to(device)\n",
    "    logits, loss = model(xb, yb)\n",
    "\n",
    "    optimizer.zero_grad(set_to_none = True)\n",
    "    loss.backward()\n",
    "    torch.nn.utils.clip_grad_norm_(model.parameters(), grad_norm_clip)\n",
    "    optimizer.step()\n",
    "\n",
    "    global_step += 1\n",
    "\n",
    "    if iter_num % log_interval == 0 or iter_num == max_iters - 1:\n",
    "        writer.add_scalar('Loss/train', loss.item(), global_step)\n",
    "        tqdm.write(f'Step {iter_num}: Train Loss: {loss.item(): .4f}')\n",
    "\n",
    "    if iter_num % eval_interval == 0 or iter_num == max_iters -1:\n",
    "        val_loss = estimate_loss(model, val_loader, eval_iters, writer)\n",
    "        writer.add_scalar('Loss/val', val_loss, global_step)\n",
    "        tqdm.write(f'Step {iter_num}: Train Loss {loss.item(): .4f}, Val Loss {val_loss:.4f}')\n",
    "\n",
    "    if iter_num % checkpoint_interval == 0 or iter_num == max_iters -1:\n",
    "        checkpoint_path = os.path.join(out_dir, f'ckpt_{iter_num:05d}.pth')\n",
    "        torch.save({\n",
    "            'model_state_dict': model.state_dict(),\n",
    "            'optimizer_state_dict': optimizer.state_dict(),\n",
    "            'iter': iter_num,\n",
    "            'train_loss': loss.item(),\n",
    "        }, checkpoint_path)\n",
    "        tqdm.write(f'Checkpoint saved to {checkpoint_path}')"
   ]
  },
  {
   "cell_type": "code",
   "execution_count": null,
   "metadata": {},
   "outputs": [],
   "source": [
    "print('\\n Training complete!')\n",
    "writer.close()\n",
    "print('TensorBoard writer closed.')"
   ]
  }
 ],
 "metadata": {
  "kernelspec": {
   "display_name": "Python 3",
   "language": "python",
   "name": "python3"
  },
  "language_info": {
   "codemirror_mode": {
    "name": "ipython",
    "version": 3
   },
   "file_extension": ".py",
   "mimetype": "text/x-python",
   "name": "python",
   "nbconvert_exporter": "python",
   "pygments_lexer": "ipython3",
   "version": "3.10.18"
  }
 },
 "nbformat": 4,
 "nbformat_minor": 2
}
